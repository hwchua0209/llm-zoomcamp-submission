{
 "cells": [
  {
   "cell_type": "markdown",
   "metadata": {},
   "source": [
    "# LLM Zoomcamp HW3"
   ]
  },
  {
   "cell_type": "markdown",
   "metadata": {},
   "source": [
    "## Q1. Getting the embeddings model"
   ]
  },
  {
   "cell_type": "code",
   "execution_count": 1,
   "metadata": {},
   "outputs": [
    {
     "name": "stderr",
     "output_type": "stream",
     "text": [
      "/home/codespace/.python/current/lib/python3.10/site-packages/sentence_transformers/cross_encoder/CrossEncoder.py:11: TqdmExperimentalWarning: Using `tqdm.autonotebook.tqdm` in notebook mode. Use `tqdm.tqdm` instead to force console mode (e.g. in jupyter console)\n",
      "  from tqdm.autonotebook import tqdm, trange\n"
     ]
    },
    {
     "data": {
      "application/vnd.jupyter.widget-view+json": {
       "model_id": "650066a71d944121b98fde5d28f74353",
       "version_major": 2,
       "version_minor": 0
      },
      "text/plain": [
       "modules.json:   0%|          | 0.00/349 [00:00<?, ?B/s]"
      ]
     },
     "metadata": {},
     "output_type": "display_data"
    },
    {
     "data": {
      "application/vnd.jupyter.widget-view+json": {
       "model_id": "8021f5c829b04ef38e2cec3a524b8d36",
       "version_major": 2,
       "version_minor": 0
      },
      "text/plain": [
       "config_sentence_transformers.json:   0%|          | 0.00/116 [00:00<?, ?B/s]"
      ]
     },
     "metadata": {},
     "output_type": "display_data"
    },
    {
     "data": {
      "application/vnd.jupyter.widget-view+json": {
       "model_id": "48042b23e57e412ca22a1c005e6eec1c",
       "version_major": 2,
       "version_minor": 0
      },
      "text/plain": [
       "README.md:   0%|          | 0.00/9.52k [00:00<?, ?B/s]"
      ]
     },
     "metadata": {},
     "output_type": "display_data"
    },
    {
     "data": {
      "application/vnd.jupyter.widget-view+json": {
       "model_id": "ab46d8ad61044b55994476c1568fef98",
       "version_major": 2,
       "version_minor": 0
      },
      "text/plain": [
       "sentence_bert_config.json:   0%|          | 0.00/53.0 [00:00<?, ?B/s]"
      ]
     },
     "metadata": {},
     "output_type": "display_data"
    },
    {
     "data": {
      "application/vnd.jupyter.widget-view+json": {
       "model_id": "012cf76d7de74d8fb606c8a08707b69d",
       "version_major": 2,
       "version_minor": 0
      },
      "text/plain": [
       "config.json:   0%|          | 0.00/523 [00:00<?, ?B/s]"
      ]
     },
     "metadata": {},
     "output_type": "display_data"
    },
    {
     "data": {
      "application/vnd.jupyter.widget-view+json": {
       "model_id": "4f917cb7ad0e40dd81e07b9d78a61d6b",
       "version_major": 2,
       "version_minor": 0
      },
      "text/plain": [
       "model.safetensors:   0%|          | 0.00/265M [00:00<?, ?B/s]"
      ]
     },
     "metadata": {},
     "output_type": "display_data"
    },
    {
     "data": {
      "application/vnd.jupyter.widget-view+json": {
       "model_id": "a76748a81e5446c2a85157e2fe7239f6",
       "version_major": 2,
       "version_minor": 0
      },
      "text/plain": [
       "tokenizer_config.json:   0%|          | 0.00/333 [00:00<?, ?B/s]"
      ]
     },
     "metadata": {},
     "output_type": "display_data"
    },
    {
     "data": {
      "application/vnd.jupyter.widget-view+json": {
       "model_id": "5427d984f08e4317b13ececf1ce48453",
       "version_major": 2,
       "version_minor": 0
      },
      "text/plain": [
       "vocab.txt:   0%|          | 0.00/232k [00:00<?, ?B/s]"
      ]
     },
     "metadata": {},
     "output_type": "display_data"
    },
    {
     "data": {
      "application/vnd.jupyter.widget-view+json": {
       "model_id": "99e6f50b39ea4c16a99c9e7ff7f6f3b1",
       "version_major": 2,
       "version_minor": 0
      },
      "text/plain": [
       "tokenizer.json:   0%|          | 0.00/466k [00:00<?, ?B/s]"
      ]
     },
     "metadata": {},
     "output_type": "display_data"
    },
    {
     "data": {
      "application/vnd.jupyter.widget-view+json": {
       "model_id": "5e1328efef474dce99ba5f37fefb3d90",
       "version_major": 2,
       "version_minor": 0
      },
      "text/plain": [
       "special_tokens_map.json:   0%|          | 0.00/112 [00:00<?, ?B/s]"
      ]
     },
     "metadata": {},
     "output_type": "display_data"
    },
    {
     "data": {
      "application/vnd.jupyter.widget-view+json": {
       "model_id": "ffa01782adc7469c9b860e0028c4941d",
       "version_major": 2,
       "version_minor": 0
      },
      "text/plain": [
       "1_Pooling/config.json:   0%|          | 0.00/190 [00:00<?, ?B/s]"
      ]
     },
     "metadata": {},
     "output_type": "display_data"
    }
   ],
   "source": [
    "from sentence_transformers import SentenceTransformer\n",
    "\n",
    "embedding_model = SentenceTransformer(\"multi-qa-distilbert-cos-v1\")"
   ]
  },
  {
   "cell_type": "code",
   "execution_count": 119,
   "metadata": {},
   "outputs": [],
   "source": [
    "user_question = \"I just discovered the course. Can I still join it?\"\n",
    "\n",
    "result = embedding_model.encode(user_question)"
   ]
  },
  {
   "cell_type": "code",
   "execution_count": 120,
   "metadata": {},
   "outputs": [
    {
     "data": {
      "text/plain": [
       "0.078222655"
      ]
     },
     "execution_count": 120,
     "metadata": {},
     "output_type": "execute_result"
    }
   ],
   "source": [
    "result[0]"
   ]
  },
  {
   "cell_type": "markdown",
   "metadata": {},
   "source": [
    "## Prepare the documents"
   ]
  },
  {
   "cell_type": "code",
   "execution_count": 5,
   "metadata": {},
   "outputs": [],
   "source": [
    "import requests\n",
    "\n",
    "base_url = \"https://github.com/DataTalksClub/llm-zoomcamp/blob/main\"\n",
    "relative_url = \"03-vector-search/eval/documents-with-ids.json\"\n",
    "docs_url = f\"{base_url}/{relative_url}?raw=1\"\n",
    "docs_response = requests.get(docs_url)\n",
    "documents = docs_response.json()"
   ]
  },
  {
   "cell_type": "code",
   "execution_count": 16,
   "metadata": {},
   "outputs": [],
   "source": [
    "docs_ml = []\n",
    "for doc in documents:\n",
    "    if doc[\"course\"] == \"machine-learning-zoomcamp\":\n",
    "        docs_ml.append(doc)"
   ]
  },
  {
   "cell_type": "code",
   "execution_count": 17,
   "metadata": {},
   "outputs": [
    {
     "data": {
      "text/plain": [
       "375"
      ]
     },
     "execution_count": 17,
     "metadata": {},
     "output_type": "execute_result"
    }
   ],
   "source": [
    "len(docs_ml)"
   ]
  },
  {
   "cell_type": "code",
   "execution_count": 18,
   "metadata": {},
   "outputs": [
    {
     "data": {
      "text/plain": [
       "{'text': 'The course videos are pre-recorded, you can start watching the course right now.\\nWe will also occasionally have office hours - live sessions where we will answer your questions. The office hours sessions are recorded too.\\nYou can see the office hours as well as the pre-recorded course videos in the course playlist on YouTube.',\n",
       " 'section': 'General course-related questions',\n",
       " 'question': 'Is it going to be live? When?',\n",
       " 'course': 'machine-learning-zoomcamp',\n",
       " 'id': '39fda9f0'}"
      ]
     },
     "execution_count": 18,
     "metadata": {},
     "output_type": "execute_result"
    }
   ],
   "source": [
    "docs_ml[1]"
   ]
  },
  {
   "cell_type": "markdown",
   "metadata": {},
   "source": [
    "## Q2. Creating the embeddings"
   ]
  },
  {
   "cell_type": "code",
   "execution_count": 19,
   "metadata": {},
   "outputs": [
    {
     "data": {
      "application/vnd.jupyter.widget-view+json": {
       "model_id": "1d3fd3f8b9454ebfb50d4c2f12051b69",
       "version_major": 2,
       "version_minor": 0
      },
      "text/plain": [
       "  0%|          | 0/375 [00:00<?, ?it/s]"
      ]
     },
     "metadata": {},
     "output_type": "display_data"
    },
    {
     "data": {
      "text/plain": [
       "(375, 768)"
      ]
     },
     "execution_count": 19,
     "metadata": {},
     "output_type": "execute_result"
    }
   ],
   "source": [
    "import numpy as np\n",
    "from tqdm.auto import tqdm\n",
    "\n",
    "embeddings = []\n",
    "\n",
    "for doc in tqdm(docs_ml):\n",
    "    question = doc[\"question\"]\n",
    "    text = doc[\"text\"]\n",
    "    qa_text = f\"{question} {text}\"\n",
    "    embedding_qa_text = embedding_model.encode(qa_text)\n",
    "    embeddings.append(embedding_qa_text)\n",
    "\n",
    "X = np.array(embeddings)\n",
    "X.shape"
   ]
  },
  {
   "cell_type": "code",
   "execution_count": 150,
   "metadata": {},
   "outputs": [
    {
     "data": {
      "text/plain": [
       "array([ 7.06691891e-02, -1.93056818e-02,  7.73837268e-02,  2.37205159e-02,\n",
       "        8.63914639e-02, -2.04659123e-02,  9.15529486e-03,  4.65581082e-02,\n",
       "       -4.78188833e-03, -1.43747935e-02, -1.97507888e-02, -4.51360121e-02,\n",
       "        3.47972587e-02, -4.37994339e-02,  3.87682468e-02, -2.01997068e-02,\n",
       "       -1.13333657e-03, -4.24227193e-02,  3.04053314e-02, -3.29325274e-02,\n",
       "       -8.21831822e-03,  2.65472522e-03,  3.13991532e-02,  4.64935750e-02,\n",
       "       -4.02437896e-02,  5.76140992e-02, -1.99844502e-02,  2.95837503e-02,\n",
       "       -8.68471432e-03, -9.97345243e-03,  7.24730035e-03, -5.11227474e-02,\n",
       "        7.30461255e-02,  2.48600785e-02,  4.75398563e-02, -1.94741841e-02,\n",
       "       -6.19658045e-02,  6.10636733e-02, -7.48167513e-03,  4.05436046e-02,\n",
       "       -3.07619609e-02,  1.59537047e-02,  2.08376385e-02,  1.18389828e-02,\n",
       "       -3.59451994e-02, -1.50297992e-02,  4.09365706e-02, -4.85859904e-03,\n",
       "       -3.44599858e-02,  3.27185616e-02, -1.14695383e-02,  4.67685349e-02,\n",
       "        8.60479251e-02,  3.62660736e-03, -3.20636295e-02,  1.24089757e-03,\n",
       "        6.33656308e-02, -1.55532630e-02, -2.40863375e-02,  5.28555699e-02,\n",
       "       -1.35905659e-02,  4.79927510e-02, -7.03368410e-02,  2.31347280e-03,\n",
       "        1.69500150e-02, -5.88512309e-02,  1.51935155e-02, -4.45858464e-02,\n",
       "        5.13022542e-02,  4.76374896e-03,  5.64542972e-03,  5.24489097e-02,\n",
       "       -9.88455676e-03,  7.91263394e-03,  6.88488735e-03, -3.58096696e-02,\n",
       "        3.00881863e-02,  5.00754826e-02,  2.42829183e-03,  1.01425324e-03,\n",
       "        5.28851226e-02,  3.88704203e-02,  1.78081971e-02, -3.39097679e-02,\n",
       "       -4.82971407e-02,  4.05405927e-03, -2.42240950e-02, -3.64998840e-02,\n",
       "       -3.65789235e-02, -6.86024374e-04, -3.25459428e-02, -1.23639461e-02,\n",
       "       -2.04441547e-02, -2.94353236e-02, -4.11061347e-02,  1.23659018e-02,\n",
       "       -1.45729547e-02,  8.53968225e-03,  1.47753125e-02,  3.33582163e-02,\n",
       "       -3.98223922e-02, -2.17630211e-02,  4.45961729e-02,  1.09006660e-02,\n",
       "        6.93785772e-02,  7.01570511e-02, -1.97385196e-02, -5.06062731e-02,\n",
       "        1.53029161e-02,  8.25559720e-02, -1.74959954e-02, -7.64996745e-03,\n",
       "        5.56305535e-02, -4.34210934e-02,  1.05494852e-04,  2.61293221e-02,\n",
       "        4.05254588e-02,  1.05896955e-02, -3.37926969e-02, -3.02262791e-03,\n",
       "       -8.59233141e-02, -1.75143369e-02,  5.20037562e-02,  3.87253948e-02,\n",
       "        3.26775899e-03,  1.13937743e-02, -5.87344840e-02, -2.93329731e-02,\n",
       "        2.03454634e-03, -4.72410582e-02, -2.53411420e-02, -1.61070023e-02,\n",
       "        1.86378509e-02,  2.46879924e-02,  4.24237028e-02,  8.46842155e-02,\n",
       "       -1.69361942e-02, -7.46965781e-02, -4.80615348e-02,  7.07906634e-02,\n",
       "        2.40940414e-02,  2.76410021e-03,  6.62467675e-03,  6.18000552e-02,\n",
       "       -9.36014578e-02, -4.42473590e-02, -3.34969573e-02, -4.11559194e-02,\n",
       "       -3.36077181e-03, -4.32525575e-02, -1.77500080e-02, -3.77420597e-02,\n",
       "       -1.46109778e-02, -2.26953104e-02,  1.75931063e-02,  2.36241743e-02,\n",
       "        1.38746519e-02,  1.18298410e-02, -2.45029032e-02, -5.71215041e-02,\n",
       "        5.52087910e-02,  5.70028462e-02,  6.83957664e-03,  2.58141775e-02,\n",
       "       -1.62925776e-02,  2.32043546e-02, -3.91852222e-02, -3.25875990e-02,\n",
       "        4.62254956e-02, -2.25171838e-02, -4.86783199e-02,  2.80167479e-02,\n",
       "        4.31475118e-02,  3.18180374e-03, -6.02641143e-02,  4.97957617e-02,\n",
       "       -2.19057705e-02,  2.00787038e-02,  7.24216981e-04, -6.49966598e-02,\n",
       "       -1.07624149e-02, -7.98294470e-02,  4.53445837e-02, -2.15811729e-02,\n",
       "        1.72694195e-02, -4.48564105e-02,  5.16425222e-02,  5.48617914e-03,\n",
       "       -3.99292447e-03,  6.69965744e-02,  7.89446197e-03,  2.10869703e-02,\n",
       "       -4.77114087e-03, -3.03674564e-02,  5.18273562e-03, -4.54806425e-02,\n",
       "       -2.18661819e-02,  5.47878491e-03, -5.13450336e-03,  2.45321747e-02,\n",
       "        3.72892991e-02,  3.00129559e-02, -1.68754160e-02, -7.09655555e-03,\n",
       "       -3.31280790e-02,  1.71108153e-02,  1.57517493e-02, -6.91329241e-02,\n",
       "       -2.23465473e-03, -6.43882900e-02,  2.70488281e-02,  7.68764876e-03,\n",
       "        3.22105363e-02,  4.36308943e-02,  2.30126604e-02, -4.78606671e-03,\n",
       "        1.78608410e-02, -3.00425384e-02, -1.31770447e-02,  8.53046961e-03,\n",
       "        1.70079153e-02,  1.62104592e-02,  2.54499614e-02,  2.23212149e-02,\n",
       "       -4.35918123e-02, -5.00138365e-02, -6.04857504e-02,  3.18852141e-02,\n",
       "        6.63379347e-03, -4.69795316e-02,  1.05224894e-02,  5.06459642e-03,\n",
       "       -1.97486132e-02, -2.38757003e-02,  3.43524739e-02,  4.97544790e-03,\n",
       "       -3.97833325e-02, -3.38386819e-02,  1.75596699e-02, -3.74975353e-02,\n",
       "        8.58308673e-02,  6.88050687e-03,  3.51286978e-02, -2.96566344e-04,\n",
       "        6.22059666e-02,  1.16068835e-03, -2.00947784e-02,  3.88121754e-02,\n",
       "        2.77981553e-02, -3.64880785e-02,  4.07536663e-02, -1.00116856e-01,\n",
       "        1.38698227e-03,  2.92608812e-02, -1.14582166e-01,  1.98682752e-02,\n",
       "       -7.51495734e-02, -1.70311965e-02,  5.50939851e-02, -1.22500397e-02,\n",
       "        3.56124938e-02,  1.10365544e-02, -1.95201475e-03, -4.76364774e-04,\n",
       "       -1.89800619e-03, -8.36519450e-02, -3.61777167e-03, -3.51424478e-02,\n",
       "       -2.61332057e-02,  2.11330634e-02,  3.96005390e-03, -1.67821348e-02,\n",
       "        1.95695553e-02, -1.02783963e-02,  9.20002256e-03, -1.82073433e-02,\n",
       "       -2.08085049e-02, -3.11026163e-02,  4.96352836e-02, -5.94366575e-03,\n",
       "        8.63268599e-03, -3.82447653e-02,  1.76603172e-03, -4.44558356e-03,\n",
       "       -2.87076831e-02, -9.31576244e-04, -6.87069669e-02, -1.14820823e-02,\n",
       "       -3.82819511e-02,  3.12913992e-02, -8.96889158e-03,  5.45480363e-02,\n",
       "        1.14683453e-02,  1.71706658e-02,  1.03716753e-01, -7.79705048e-02,\n",
       "        4.48140837e-02, -7.76672438e-02, -2.91439798e-02,  1.77410711e-02,\n",
       "        3.99059840e-02,  2.31984872e-02,  7.02818707e-02, -1.02540385e-02,\n",
       "        1.30677894e-02, -4.31836359e-02,  3.88494730e-02, -3.86930928e-02,\n",
       "       -2.35856734e-02, -4.20496166e-02, -2.73759067e-02,  3.51420306e-02,\n",
       "        2.76697148e-02, -5.75955585e-02,  1.46047049e-03,  1.86618920e-02,\n",
       "       -4.21852730e-02,  1.97070790e-03, -3.49512435e-02,  2.67503038e-02,\n",
       "        5.41066052e-03,  1.56666897e-02,  5.01587838e-02,  6.16680495e-02,\n",
       "       -4.15919349e-02,  4.60385121e-02,  1.73476283e-02,  2.15609334e-02,\n",
       "        3.69496755e-02,  1.03462804e-02, -2.01721545e-02,  3.75642302e-03,\n",
       "        1.37446392e-02, -2.14832537e-02, -9.14912000e-02,  3.88612784e-02,\n",
       "        3.27947251e-02, -8.12441334e-02,  3.58658726e-03, -1.29030757e-02,\n",
       "       -1.93183944e-02,  5.00276051e-02, -1.15229338e-02, -9.52689070e-03,\n",
       "        2.55493876e-02, -1.83861554e-02, -3.94029133e-02, -7.52657801e-02,\n",
       "       -3.25307213e-02, -4.23079431e-02, -4.53467015e-03,  1.24411769e-02,\n",
       "       -9.09816567e-03,  3.29964943e-02,  3.82810459e-02,  1.24171405e-04,\n",
       "       -2.78402772e-02, -2.18137056e-02, -2.58041453e-02,  3.40907611e-02,\n",
       "        5.41644357e-02,  1.87524669e-02, -4.76605855e-02, -3.18660922e-02,\n",
       "       -2.52939425e-02,  3.70493308e-02,  6.39362484e-02, -3.12928595e-02,\n",
       "        8.43711942e-03, -5.55748935e-04, -6.14941753e-02, -6.88091144e-02,\n",
       "        4.59737815e-02, -6.33591926e-03,  2.65366007e-02,  5.75245731e-02,\n",
       "        1.92300007e-02,  3.52674425e-02,  4.45737615e-02, -1.70663521e-02,\n",
       "        2.49718856e-02, -1.52513823e-02, -4.87569869e-02,  3.01063918e-02,\n",
       "        8.41498300e-02, -7.55852461e-03,  5.55344224e-02,  5.82381152e-02,\n",
       "        1.43397758e-02,  1.50920050e-02,  7.98890665e-02,  3.34806405e-02,\n",
       "        5.10874502e-02, -1.40651343e-02,  1.75118893e-02,  1.14887087e-02,\n",
       "        1.38304597e-02,  3.35012488e-02, -6.63470710e-03,  1.03740934e-02,\n",
       "       -1.38805602e-02,  8.62862449e-03, -2.14226376e-02,  3.80198192e-03,\n",
       "        8.97130813e-04,  3.04570962e-02,  5.18347137e-02, -5.17346023e-04,\n",
       "       -1.76278818e-02, -7.11872010e-04,  3.54709886e-02,  3.88779072e-03,\n",
       "       -6.42485544e-03, -5.12221977e-02,  1.13359364e-02,  1.95607990e-02,\n",
       "        1.94582976e-02, -1.07519841e-02, -3.11771855e-02,  6.23706765e-02,\n",
       "       -5.70371561e-03,  3.01963277e-02,  2.19547674e-02, -2.80482862e-02,\n",
       "        2.85483133e-02, -2.33329833e-02,  4.97098267e-02, -1.41451908e-02,\n",
       "       -3.55807766e-02, -8.68108403e-03,  3.31160128e-02,  1.41609309e-03,\n",
       "       -7.08062351e-02,  2.30612941e-02, -1.48216251e-03, -3.39593776e-02,\n",
       "        2.02895943e-02, -2.49274913e-03, -5.37430570e-02,  2.28091460e-02,\n",
       "       -2.55130064e-02,  7.91571587e-02,  2.19050832e-02,  7.12321624e-02,\n",
       "        7.87619278e-02, -2.19907202e-02,  2.02532057e-02, -1.86294522e-02,\n",
       "       -1.43703790e-02,  1.27034122e-02,  3.14700305e-02,  1.83821805e-02,\n",
       "        1.01387119e-02, -9.22846701e-03, -4.98025045e-02,  4.12234031e-02,\n",
       "       -2.17266697e-02, -5.89597039e-02,  5.58112785e-02,  1.83259808e-02,\n",
       "       -2.15170644e-02,  1.17504584e-04,  1.13024190e-02,  1.36122573e-02,\n",
       "       -6.92903101e-02, -2.64591873e-02,  4.85683559e-03,  7.53956614e-03,\n",
       "        2.51836199e-02,  9.97507386e-03, -5.94638800e-03,  2.80135823e-03,\n",
       "       -2.31763981e-02,  2.35089734e-02, -1.89727545e-02, -8.77601374e-03,\n",
       "       -1.68828573e-02, -5.51510304e-02,  1.99600887e-02,  2.26414930e-02,\n",
       "        2.48684920e-02, -4.24510092e-02,  4.51681986e-02, -3.46943103e-02,\n",
       "        5.67754395e-02, -2.27103103e-02,  2.40772404e-02, -8.52718018e-03,\n",
       "        4.99883182e-02, -6.05568700e-02,  9.96132195e-03,  8.03653803e-03,\n",
       "        2.25295871e-02,  3.41246352e-02, -7.39750825e-03,  6.39019394e-03,\n",
       "        1.57546960e-02,  4.23613563e-03,  4.67457883e-02, -2.54258178e-02,\n",
       "       -1.77109968e-02, -1.59677826e-02, -3.88374057e-04,  2.19639135e-03,\n",
       "        6.14317954e-02,  1.01090567e-02, -5.76536031e-03,  1.24514997e-02,\n",
       "       -3.23230401e-02, -1.00601232e-03, -3.93297784e-02, -1.22492928e-02,\n",
       "        7.91790057e-03,  1.16057554e-02, -7.83107430e-03,  2.93548033e-03,\n",
       "        5.19382209e-03, -4.54298774e-04, -4.31182832e-02,  5.25295325e-02,\n",
       "        5.38435578e-03, -5.11879027e-02, -7.50454888e-02, -3.75451706e-02,\n",
       "       -1.95489097e-02,  8.17747787e-03, -1.94946988e-04,  2.77631488e-02,\n",
       "        4.81811771e-03,  5.95023073e-02, -2.76201814e-02,  1.21493451e-02,\n",
       "       -5.16560674e-02, -2.86527015e-02, -1.39377443e-02, -1.94459707e-02,\n",
       "       -3.56071629e-02, -3.14511321e-02, -3.15285102e-03,  4.97121289e-02,\n",
       "        4.46145572e-02,  5.33078611e-02, -5.35426736e-02, -1.20227067e-02,\n",
       "       -8.15284029e-02,  7.15108996e-04,  6.33012853e-04, -2.91433949e-02,\n",
       "       -6.00205921e-03, -3.77610475e-02, -1.15063526e-02,  4.43889387e-03,\n",
       "       -2.41616648e-03,  4.28294614e-02,  4.26186919e-02,  2.46331021e-02,\n",
       "        4.08523828e-02,  1.35852571e-03,  4.62414548e-02,  1.84876919e-02,\n",
       "       -3.31745343e-03, -1.17899328e-02, -7.02266023e-02, -8.05690810e-02,\n",
       "        6.39602244e-02,  2.66174208e-02, -1.22011043e-02,  1.72667159e-03,\n",
       "       -3.50731611e-02, -7.09487125e-02, -4.60674874e-02,  1.09953145e-02,\n",
       "        1.66340899e-02,  4.05784808e-02,  4.99354303e-02, -5.10350205e-02,\n",
       "       -1.97156649e-02,  6.21288493e-02, -2.99612731e-02,  6.23487169e-03,\n",
       "       -3.63266915e-02,  1.43623427e-02,  9.30425301e-02,  3.05971168e-02,\n",
       "        5.93688339e-03,  3.14788297e-02,  1.01729902e-02,  4.32055816e-02,\n",
       "        4.19439934e-02,  3.48590724e-02, -7.87243694e-02, -3.33925383e-03,\n",
       "        1.41601805e-02, -3.82456277e-03,  6.09276444e-03,  6.51190951e-02,\n",
       "       -2.19338713e-03,  1.63976718e-02,  1.65806580e-02,  1.20738214e-02,\n",
       "        3.17205070e-03, -4.39223312e-02, -2.07207743e-02,  3.28107215e-02,\n",
       "        6.46589696e-03, -1.83926802e-02,  8.33844692e-02, -1.38644809e-02,\n",
       "        2.55227485e-03,  4.07948568e-02, -3.08303181e-02,  1.37935393e-02,\n",
       "       -1.79142579e-02,  2.76623145e-02, -5.30696381e-03,  4.65788916e-02,\n",
       "        5.50055550e-03, -3.64014297e-04, -5.14167659e-02,  4.60389145e-02,\n",
       "        2.96418834e-02, -3.69406748e-03, -2.62864144e-03, -4.37091179e-02,\n",
       "        1.14318291e-02, -2.61309184e-02, -7.02939853e-02, -4.89438437e-02,\n",
       "       -8.95613246e-03, -6.85935616e-02,  7.00708758e-03, -2.92512425e-03,\n",
       "       -3.71178985e-02, -1.81352124e-02,  2.15114448e-02, -3.78458463e-02,\n",
       "       -3.16531286e-02,  2.49978097e-04, -1.35045173e-02,  1.13761248e-02,\n",
       "       -3.72024602e-03,  7.56245852e-03, -2.53043845e-02, -3.99009176e-02,\n",
       "       -5.02327196e-02, -3.76254134e-02,  1.64655298e-02, -4.00232859e-02,\n",
       "        1.08141163e-02,  8.80806893e-03,  4.81359288e-02, -1.92374196e-02,\n",
       "        6.98282756e-03,  9.07143578e-03, -2.42352355e-02,  1.43719306e-02,\n",
       "       -4.51340117e-02, -5.46137989e-02,  1.54177686e-02, -7.04598203e-02,\n",
       "        3.61269452e-02, -4.41302620e-02,  1.47267543e-02, -3.94880325e-02,\n",
       "       -3.15497965e-02,  3.06033418e-02,  1.88587159e-02,  6.20117411e-02,\n",
       "       -1.84991919e-02, -4.99248616e-02, -4.98962449e-03, -1.72695182e-02,\n",
       "       -3.10940444e-02,  4.34268415e-02,  2.90379319e-02,  1.01620180e-03,\n",
       "        2.97744516e-02,  4.16760109e-02, -6.31476268e-02, -2.27117520e-02,\n",
       "       -5.78304790e-02, -3.70443538e-02,  2.57904697e-02, -3.92317176e-02,\n",
       "       -3.41192372e-02,  1.62899457e-02,  9.80664641e-02,  5.44515736e-02,\n",
       "        2.49658525e-02,  1.21476210e-03, -2.01752409e-02, -1.59823876e-02,\n",
       "        5.58456825e-03, -2.60335077e-02, -2.35546902e-02,  3.76790836e-02,\n",
       "       -5.68896979e-02,  7.29828402e-02,  1.67373717e-02, -9.82352048e-02,\n",
       "        9.10856575e-02, -2.95038940e-03,  9.58241522e-03, -4.11973223e-02,\n",
       "       -9.97212529e-03, -3.39022875e-02,  4.79121059e-02, -3.61143751e-03,\n",
       "        1.68155935e-02, -4.80759032e-02, -3.26520205e-03, -2.92488690e-02,\n",
       "       -2.93716863e-02, -3.51759046e-02,  4.37194221e-02, -8.19777790e-03,\n",
       "       -6.82736337e-02,  3.58738229e-02,  3.66120711e-02,  1.79724786e-02,\n",
       "        2.83978209e-02,  9.54729877e-03, -1.03139160e-02,  6.51496053e-02,\n",
       "        1.87120475e-02,  4.05369280e-03, -2.56668702e-02, -4.50835600e-02,\n",
       "       -3.16783041e-02,  1.70137398e-02,  2.69287806e-02, -1.55371036e-02,\n",
       "       -6.34984998e-03,  2.02567261e-02, -4.83849645e-02,  4.11091931e-03,\n",
       "       -7.75782333e-04, -2.37116311e-03,  2.05615927e-02, -2.32535601e-02,\n",
       "       -1.04728583e-02,  4.16378602e-02, -1.93198994e-02, -1.94188897e-02,\n",
       "       -2.42213011e-02,  4.21438701e-02,  3.28202918e-02, -3.21714059e-02,\n",
       "       -4.19723615e-02,  5.93347922e-02,  3.93215120e-02,  7.59618217e-03,\n",
       "       -3.36648052e-04,  1.33427586e-02,  1.96563303e-02, -2.86431285e-03,\n",
       "        9.65924654e-03, -3.52975763e-02,  6.55610953e-03, -2.08579842e-02,\n",
       "        2.26861313e-02,  7.99290370e-03, -4.27016616e-02, -3.52411456e-02,\n",
       "       -4.39404808e-02,  4.49556112e-02,  1.07855164e-02, -2.31659487e-02],\n",
       "      dtype=float32)"
      ]
     },
     "execution_count": 150,
     "metadata": {},
     "output_type": "execute_result"
    }
   ],
   "source": [
    "X[1]"
   ]
  },
  {
   "cell_type": "markdown",
   "metadata": {},
   "source": [
    "## Q3. Search"
   ]
  },
  {
   "cell_type": "code",
   "execution_count": 20,
   "metadata": {},
   "outputs": [],
   "source": [
    "v = result"
   ]
  },
  {
   "cell_type": "code",
   "execution_count": 24,
   "metadata": {},
   "outputs": [
    {
     "data": {
      "text/plain": [
       "0.6506573"
      ]
     },
     "execution_count": 24,
     "metadata": {},
     "output_type": "execute_result"
    }
   ],
   "source": [
    "scores = X.dot(v)\n",
    "np.max(scores)"
   ]
  },
  {
   "cell_type": "markdown",
   "metadata": {},
   "source": [
    "## Vector search"
   ]
  },
  {
   "cell_type": "code",
   "execution_count": 86,
   "metadata": {},
   "outputs": [
    {
     "data": {
      "text/plain": [
       "[{'text': 'You can find the latest and up-to-date deadlines here: https://docs.google.com/spreadsheets/d/e/2PACX-1vQACMLuutV5rvXg5qICuJGL-yZqIV0FBD84CxPdC5eZHf8TfzB-CJT_3Mo7U7oGVTXmSihPgQxuuoku/pubhtml\\nAlso, take note of Announcements from @Au-Tomator for any extensions or other news. Or, the form may also show the updated deadline, if Instructor(s) has updated it.',\n",
       "  'section': 'General course-related questions',\n",
       "  'question': 'Homework - What are homework and project deadlines?',\n",
       "  'course': 'data-engineering-zoomcamp',\n",
       "  'id': 'a1daf537'},\n",
       " {'text': 'After you submit your homework it will be graded based on the amount of questions in a particular homework. You can see how many points you have right on the page of the homework up top. Additionally in the leaderboard you will find the sum of all points you’ve earned - points for Homeworks, FAQs and Learning in Public. If homework is clear, others work as follows: if you submit something to FAQ, you get one point, for each learning in a public link you get one point.\\n(https://datatalks-club.slack.com/archives/C01FABYF2RG/p1706846846359379?thread_ts=1706825019.546229&cid=C01FABYF2RG)',\n",
       "  'section': 'General course-related questions',\n",
       "  'question': 'Homework and Leaderboard - what is the system for points in the course management platform?',\n",
       "  'course': 'data-engineering-zoomcamp',\n",
       "  'id': '29865466'},\n",
       " {'text': \"There are 3 Zoom Camps in a year, as of 2024. However, they are for separate courses:\\nData-Engineering (Jan - Apr)\\nMLOps (May - Aug)\\nMachine Learning (Sep - Jan)\\nThere's only one Data-Engineering Zoomcamp “live” cohort per year, for the certification. Same as for the other Zoomcamps.\\nThey follow pretty much the same schedule for each cohort per zoomcamp. For Data-Engineering it is (generally) from Jan-Apr of the year. If you’re not interested in the Certificate, you can take any zoom camps at any time, at your own pace, out of sync with any “live” cohort.\",\n",
       "  'section': 'General course-related questions',\n",
       "  'question': 'Course - how many Zoomcamps in a year?',\n",
       "  'course': 'data-engineering-zoomcamp',\n",
       "  'id': '2ed9b986'},\n",
       " {'text': 'Check Docker Compose File:\\nEnsure that your docker-compose.yaml file is correctly configured with the necessary details for the \"control-center\" service. Check the service name, image name, ports, volumes, environment variables, and any other configurations required for the container to start.\\nOn Mac OSX 12.2.1 (Monterey) I could not start the kafka control center. I opened Docker Desktop and saw docker images still running from week 4, which I did not see when I typed “docker ps.” I deleted them in docker desktop and then had no problem starting up the kafka environment.',\n",
       "  'section': 'Module 6: streaming with kafka',\n",
       "  'question': 'Could not start docker image “control-center” from the docker-compose.yaml file.',\n",
       "  'course': 'data-engineering-zoomcamp',\n",
       "  'id': '70ac8e80'},\n",
       " {'text': 'You can set it up on your laptop or PC if you prefer to work locally from your laptop or PC.\\nYou might face some challenges, especially for Windows users. If you face cnd2\\nIf you prefer to work on the local machine, you may start with the week 1 Introduction to Docker and follow through.\\nHowever, if you prefer to set up a virtual machine, you may start with these first:\\nUsing GitHub Codespaces\\nSetting up the environment on a cloudV Mcodespace\\nI decided to work on a virtual machine because I have different laptops & PCs for my home & office, so I can work on this boot camp virtually anywhere.',\n",
       "  'section': 'General course-related questions',\n",
       "  'question': 'Environment - Should I use my local machine, GCP, or GitHub Codespaces for my environment?',\n",
       "  'course': 'data-engineering-zoomcamp',\n",
       "  'id': 'ddf6c1b3'}]"
      ]
     },
     "execution_count": 86,
     "metadata": {},
     "output_type": "execute_result"
    }
   ],
   "source": [
    "class VectorSearchEngine:\n",
    "    def __init__(self, documents, embeddings):\n",
    "        self.documents = documents\n",
    "        self.embeddings = embeddings\n",
    "\n",
    "    def search(self, v_query, num_results=10):\n",
    "        scores = self.embeddings.dot(v_query)\n",
    "        idx = np.argsort(-scores)[:num_results]\n",
    "        return [self.documents[i] for i in idx]\n",
    "\n",
    "\n",
    "search_engine = VectorSearchEngine(documents=documents, embeddings=X)\n",
    "search_engine.search(v, num_results=5)"
   ]
  },
  {
   "cell_type": "markdown",
   "metadata": {},
   "source": [
    "## Q4. Hit-rate for our search engine"
   ]
  },
  {
   "cell_type": "code",
   "execution_count": 98,
   "metadata": {},
   "outputs": [],
   "source": [
    "import pandas as pd\n",
    "\n",
    "base_url = \"https://github.com/DataTalksClub/llm-zoomcamp/blob/main\"\n",
    "relative_url = \"03-vector-search/eval/ground-truth-data.csv\"\n",
    "ground_truth_url = f\"{base_url}/{relative_url}?raw=1\"\n",
    "\n",
    "df_ground_truth = pd.read_csv(ground_truth_url)\n",
    "df_ground_truth = df_ground_truth[df_ground_truth.course == \"machine-learning-zoomcamp\"]\n",
    "ground_truth = df_ground_truth.to_dict(orient=\"records\")"
   ]
  },
  {
   "cell_type": "code",
   "execution_count": 99,
   "metadata": {},
   "outputs": [
    {
     "data": {
      "text/plain": [
       "{'question': 'Where can I sign up for the course?',\n",
       " 'course': 'machine-learning-zoomcamp',\n",
       " 'document': '0227b872'}"
      ]
     },
     "execution_count": 99,
     "metadata": {},
     "output_type": "execute_result"
    }
   ],
   "source": [
    "ground_truth[0]"
   ]
  },
  {
   "cell_type": "code",
   "execution_count": 100,
   "metadata": {},
   "outputs": [],
   "source": [
    "def hit_rate(relevance_total):\n",
    "    cnt = 0\n",
    "\n",
    "    for line in relevance_total:\n",
    "        if True in line:\n",
    "            cnt = cnt + 1\n",
    "\n",
    "    return cnt / len(relevance_total)"
   ]
  },
  {
   "cell_type": "code",
   "execution_count": 108,
   "metadata": {},
   "outputs": [],
   "source": [
    "def mrr(relevance_total):\n",
    "    total_score = 0.0\n",
    "\n",
    "    for line in relevance_total:\n",
    "        for rank in range(len(line)):\n",
    "            if line[rank] == True:\n",
    "                total_score = total_score + 1 / (rank + 1)\n",
    "\n",
    "    return total_score / len(relevance_total)"
   ]
  },
  {
   "cell_type": "code",
   "execution_count": 109,
   "metadata": {},
   "outputs": [],
   "source": [
    "def evaluate(ground_truth, search_function):\n",
    "    relevance_total = []\n",
    "\n",
    "    for q in tqdm(ground_truth):\n",
    "        doc_id = q[\"document\"]\n",
    "        results = search_function(q)\n",
    "        relevance = [d[\"id\"] == doc_id for d in results]\n",
    "        relevance_total.append(relevance)\n",
    "\n",
    "    return {\n",
    "        \"hit_rate\": hit_rate(relevance_total),\n",
    "        \"mrr\": mrr(relevance_total),\n",
    "    }"
   ]
  },
  {
   "cell_type": "code",
   "execution_count": 106,
   "metadata": {},
   "outputs": [],
   "source": [
    "def question_text_vector_custom_search(q):\n",
    "    question = q[\"question\"]\n",
    "    v_q = embedding_model.encode(question)\n",
    "\n",
    "    return VectorSearchEngine(documents=docs_ml, embeddings=X).search(\n",
    "        v_q, num_results=5\n",
    "    )"
   ]
  },
  {
   "cell_type": "code",
   "execution_count": 107,
   "metadata": {},
   "outputs": [
    {
     "data": {
      "application/vnd.jupyter.widget-view+json": {
       "model_id": "0ed45415ff1541288488500219c354fc",
       "version_major": 2,
       "version_minor": 0
      },
      "text/plain": [
       "  0%|          | 0/1830 [00:00<?, ?it/s]"
      ]
     },
     "metadata": {},
     "output_type": "display_data"
    },
    {
     "data": {
      "text/plain": [
       "{'hit_rate': 0.9398907103825137, 'mrr': 0.8516484517304189}"
      ]
     },
     "execution_count": 107,
     "metadata": {},
     "output_type": "execute_result"
    }
   ],
   "source": [
    "evaluate(ground_truth, question_text_vector_custom_search)"
   ]
  },
  {
   "cell_type": "markdown",
   "metadata": {},
   "source": [
    "## Q5. Indexing with Elasticsearch"
   ]
  },
  {
   "cell_type": "code",
   "execution_count": 115,
   "metadata": {},
   "outputs": [
    {
     "data": {
      "text/plain": [
       "ObjectApiResponse({'acknowledged': True, 'shards_acknowledged': True, 'index': 'course-questions'})"
      ]
     },
     "execution_count": 115,
     "metadata": {},
     "output_type": "execute_result"
    }
   ],
   "source": [
    "from elasticsearch import Elasticsearch\n",
    "\n",
    "es_client = Elasticsearch(\"http://localhost:9200\")\n",
    "\n",
    "index_settings = {\n",
    "    \"settings\": {\"number_of_shards\": 1, \"number_of_replicas\": 0},\n",
    "    \"mappings\": {\n",
    "        \"properties\": {\n",
    "            \"text\": {\"type\": \"text\"},\n",
    "            \"section\": {\"type\": \"text\"},\n",
    "            \"question\": {\"type\": \"text\"},\n",
    "            \"course\": {\"type\": \"keyword\"},\n",
    "            \"id\": {\"type\": \"keyword\"},\n",
    "            \"question_text_vector\": {\n",
    "                \"type\": \"dense_vector\",\n",
    "                \"dims\": 768,\n",
    "                \"index\": True,\n",
    "                \"similarity\": \"cosine\",\n",
    "            },\n",
    "        }\n",
    "    },\n",
    "}\n",
    "\n",
    "index_name = \"course-questions\"\n",
    "\n",
    "es_client.indices.delete(index=index_name, ignore_unavailable=True)\n",
    "es_client.indices.create(index=index_name, body=index_settings)"
   ]
  },
  {
   "cell_type": "code",
   "execution_count": 140,
   "metadata": {},
   "outputs": [],
   "source": [
    "# Insert vector to each document entry\n",
    "for vector in range(len(X)):\n",
    "    docs_ml[vector][\"question_text_vector\"] = X[vector]"
   ]
  },
  {
   "cell_type": "code",
   "execution_count": 151,
   "metadata": {},
   "outputs": [
    {
     "data": {
      "text/plain": [
       "{'text': 'The course videos are pre-recorded, you can start watching the course right now.\\nWe will also occasionally have office hours - live sessions where we will answer your questions. The office hours sessions are recorded too.\\nYou can see the office hours as well as the pre-recorded course videos in the course playlist on YouTube.',\n",
       " 'section': 'General course-related questions',\n",
       " 'question': 'Is it going to be live? When?',\n",
       " 'course': 'machine-learning-zoomcamp',\n",
       " 'id': '39fda9f0',\n",
       " 'question_text_vector': array([ 7.06691891e-02, -1.93056818e-02,  7.73837268e-02,  2.37205159e-02,\n",
       "         8.63914639e-02, -2.04659123e-02,  9.15529486e-03,  4.65581082e-02,\n",
       "        -4.78188833e-03, -1.43747935e-02, -1.97507888e-02, -4.51360121e-02,\n",
       "         3.47972587e-02, -4.37994339e-02,  3.87682468e-02, -2.01997068e-02,\n",
       "        -1.13333657e-03, -4.24227193e-02,  3.04053314e-02, -3.29325274e-02,\n",
       "        -8.21831822e-03,  2.65472522e-03,  3.13991532e-02,  4.64935750e-02,\n",
       "        -4.02437896e-02,  5.76140992e-02, -1.99844502e-02,  2.95837503e-02,\n",
       "        -8.68471432e-03, -9.97345243e-03,  7.24730035e-03, -5.11227474e-02,\n",
       "         7.30461255e-02,  2.48600785e-02,  4.75398563e-02, -1.94741841e-02,\n",
       "        -6.19658045e-02,  6.10636733e-02, -7.48167513e-03,  4.05436046e-02,\n",
       "        -3.07619609e-02,  1.59537047e-02,  2.08376385e-02,  1.18389828e-02,\n",
       "        -3.59451994e-02, -1.50297992e-02,  4.09365706e-02, -4.85859904e-03,\n",
       "        -3.44599858e-02,  3.27185616e-02, -1.14695383e-02,  4.67685349e-02,\n",
       "         8.60479251e-02,  3.62660736e-03, -3.20636295e-02,  1.24089757e-03,\n",
       "         6.33656308e-02, -1.55532630e-02, -2.40863375e-02,  5.28555699e-02,\n",
       "        -1.35905659e-02,  4.79927510e-02, -7.03368410e-02,  2.31347280e-03,\n",
       "         1.69500150e-02, -5.88512309e-02,  1.51935155e-02, -4.45858464e-02,\n",
       "         5.13022542e-02,  4.76374896e-03,  5.64542972e-03,  5.24489097e-02,\n",
       "        -9.88455676e-03,  7.91263394e-03,  6.88488735e-03, -3.58096696e-02,\n",
       "         3.00881863e-02,  5.00754826e-02,  2.42829183e-03,  1.01425324e-03,\n",
       "         5.28851226e-02,  3.88704203e-02,  1.78081971e-02, -3.39097679e-02,\n",
       "        -4.82971407e-02,  4.05405927e-03, -2.42240950e-02, -3.64998840e-02,\n",
       "        -3.65789235e-02, -6.86024374e-04, -3.25459428e-02, -1.23639461e-02,\n",
       "        -2.04441547e-02, -2.94353236e-02, -4.11061347e-02,  1.23659018e-02,\n",
       "        -1.45729547e-02,  8.53968225e-03,  1.47753125e-02,  3.33582163e-02,\n",
       "        -3.98223922e-02, -2.17630211e-02,  4.45961729e-02,  1.09006660e-02,\n",
       "         6.93785772e-02,  7.01570511e-02, -1.97385196e-02, -5.06062731e-02,\n",
       "         1.53029161e-02,  8.25559720e-02, -1.74959954e-02, -7.64996745e-03,\n",
       "         5.56305535e-02, -4.34210934e-02,  1.05494852e-04,  2.61293221e-02,\n",
       "         4.05254588e-02,  1.05896955e-02, -3.37926969e-02, -3.02262791e-03,\n",
       "        -8.59233141e-02, -1.75143369e-02,  5.20037562e-02,  3.87253948e-02,\n",
       "         3.26775899e-03,  1.13937743e-02, -5.87344840e-02, -2.93329731e-02,\n",
       "         2.03454634e-03, -4.72410582e-02, -2.53411420e-02, -1.61070023e-02,\n",
       "         1.86378509e-02,  2.46879924e-02,  4.24237028e-02,  8.46842155e-02,\n",
       "        -1.69361942e-02, -7.46965781e-02, -4.80615348e-02,  7.07906634e-02,\n",
       "         2.40940414e-02,  2.76410021e-03,  6.62467675e-03,  6.18000552e-02,\n",
       "        -9.36014578e-02, -4.42473590e-02, -3.34969573e-02, -4.11559194e-02,\n",
       "        -3.36077181e-03, -4.32525575e-02, -1.77500080e-02, -3.77420597e-02,\n",
       "        -1.46109778e-02, -2.26953104e-02,  1.75931063e-02,  2.36241743e-02,\n",
       "         1.38746519e-02,  1.18298410e-02, -2.45029032e-02, -5.71215041e-02,\n",
       "         5.52087910e-02,  5.70028462e-02,  6.83957664e-03,  2.58141775e-02,\n",
       "        -1.62925776e-02,  2.32043546e-02, -3.91852222e-02, -3.25875990e-02,\n",
       "         4.62254956e-02, -2.25171838e-02, -4.86783199e-02,  2.80167479e-02,\n",
       "         4.31475118e-02,  3.18180374e-03, -6.02641143e-02,  4.97957617e-02,\n",
       "        -2.19057705e-02,  2.00787038e-02,  7.24216981e-04, -6.49966598e-02,\n",
       "        -1.07624149e-02, -7.98294470e-02,  4.53445837e-02, -2.15811729e-02,\n",
       "         1.72694195e-02, -4.48564105e-02,  5.16425222e-02,  5.48617914e-03,\n",
       "        -3.99292447e-03,  6.69965744e-02,  7.89446197e-03,  2.10869703e-02,\n",
       "        -4.77114087e-03, -3.03674564e-02,  5.18273562e-03, -4.54806425e-02,\n",
       "        -2.18661819e-02,  5.47878491e-03, -5.13450336e-03,  2.45321747e-02,\n",
       "         3.72892991e-02,  3.00129559e-02, -1.68754160e-02, -7.09655555e-03,\n",
       "        -3.31280790e-02,  1.71108153e-02,  1.57517493e-02, -6.91329241e-02,\n",
       "        -2.23465473e-03, -6.43882900e-02,  2.70488281e-02,  7.68764876e-03,\n",
       "         3.22105363e-02,  4.36308943e-02,  2.30126604e-02, -4.78606671e-03,\n",
       "         1.78608410e-02, -3.00425384e-02, -1.31770447e-02,  8.53046961e-03,\n",
       "         1.70079153e-02,  1.62104592e-02,  2.54499614e-02,  2.23212149e-02,\n",
       "        -4.35918123e-02, -5.00138365e-02, -6.04857504e-02,  3.18852141e-02,\n",
       "         6.63379347e-03, -4.69795316e-02,  1.05224894e-02,  5.06459642e-03,\n",
       "        -1.97486132e-02, -2.38757003e-02,  3.43524739e-02,  4.97544790e-03,\n",
       "        -3.97833325e-02, -3.38386819e-02,  1.75596699e-02, -3.74975353e-02,\n",
       "         8.58308673e-02,  6.88050687e-03,  3.51286978e-02, -2.96566344e-04,\n",
       "         6.22059666e-02,  1.16068835e-03, -2.00947784e-02,  3.88121754e-02,\n",
       "         2.77981553e-02, -3.64880785e-02,  4.07536663e-02, -1.00116856e-01,\n",
       "         1.38698227e-03,  2.92608812e-02, -1.14582166e-01,  1.98682752e-02,\n",
       "        -7.51495734e-02, -1.70311965e-02,  5.50939851e-02, -1.22500397e-02,\n",
       "         3.56124938e-02,  1.10365544e-02, -1.95201475e-03, -4.76364774e-04,\n",
       "        -1.89800619e-03, -8.36519450e-02, -3.61777167e-03, -3.51424478e-02,\n",
       "        -2.61332057e-02,  2.11330634e-02,  3.96005390e-03, -1.67821348e-02,\n",
       "         1.95695553e-02, -1.02783963e-02,  9.20002256e-03, -1.82073433e-02,\n",
       "        -2.08085049e-02, -3.11026163e-02,  4.96352836e-02, -5.94366575e-03,\n",
       "         8.63268599e-03, -3.82447653e-02,  1.76603172e-03, -4.44558356e-03,\n",
       "        -2.87076831e-02, -9.31576244e-04, -6.87069669e-02, -1.14820823e-02,\n",
       "        -3.82819511e-02,  3.12913992e-02, -8.96889158e-03,  5.45480363e-02,\n",
       "         1.14683453e-02,  1.71706658e-02,  1.03716753e-01, -7.79705048e-02,\n",
       "         4.48140837e-02, -7.76672438e-02, -2.91439798e-02,  1.77410711e-02,\n",
       "         3.99059840e-02,  2.31984872e-02,  7.02818707e-02, -1.02540385e-02,\n",
       "         1.30677894e-02, -4.31836359e-02,  3.88494730e-02, -3.86930928e-02,\n",
       "        -2.35856734e-02, -4.20496166e-02, -2.73759067e-02,  3.51420306e-02,\n",
       "         2.76697148e-02, -5.75955585e-02,  1.46047049e-03,  1.86618920e-02,\n",
       "        -4.21852730e-02,  1.97070790e-03, -3.49512435e-02,  2.67503038e-02,\n",
       "         5.41066052e-03,  1.56666897e-02,  5.01587838e-02,  6.16680495e-02,\n",
       "        -4.15919349e-02,  4.60385121e-02,  1.73476283e-02,  2.15609334e-02,\n",
       "         3.69496755e-02,  1.03462804e-02, -2.01721545e-02,  3.75642302e-03,\n",
       "         1.37446392e-02, -2.14832537e-02, -9.14912000e-02,  3.88612784e-02,\n",
       "         3.27947251e-02, -8.12441334e-02,  3.58658726e-03, -1.29030757e-02,\n",
       "        -1.93183944e-02,  5.00276051e-02, -1.15229338e-02, -9.52689070e-03,\n",
       "         2.55493876e-02, -1.83861554e-02, -3.94029133e-02, -7.52657801e-02,\n",
       "        -3.25307213e-02, -4.23079431e-02, -4.53467015e-03,  1.24411769e-02,\n",
       "        -9.09816567e-03,  3.29964943e-02,  3.82810459e-02,  1.24171405e-04,\n",
       "        -2.78402772e-02, -2.18137056e-02, -2.58041453e-02,  3.40907611e-02,\n",
       "         5.41644357e-02,  1.87524669e-02, -4.76605855e-02, -3.18660922e-02,\n",
       "        -2.52939425e-02,  3.70493308e-02,  6.39362484e-02, -3.12928595e-02,\n",
       "         8.43711942e-03, -5.55748935e-04, -6.14941753e-02, -6.88091144e-02,\n",
       "         4.59737815e-02, -6.33591926e-03,  2.65366007e-02,  5.75245731e-02,\n",
       "         1.92300007e-02,  3.52674425e-02,  4.45737615e-02, -1.70663521e-02,\n",
       "         2.49718856e-02, -1.52513823e-02, -4.87569869e-02,  3.01063918e-02,\n",
       "         8.41498300e-02, -7.55852461e-03,  5.55344224e-02,  5.82381152e-02,\n",
       "         1.43397758e-02,  1.50920050e-02,  7.98890665e-02,  3.34806405e-02,\n",
       "         5.10874502e-02, -1.40651343e-02,  1.75118893e-02,  1.14887087e-02,\n",
       "         1.38304597e-02,  3.35012488e-02, -6.63470710e-03,  1.03740934e-02,\n",
       "        -1.38805602e-02,  8.62862449e-03, -2.14226376e-02,  3.80198192e-03,\n",
       "         8.97130813e-04,  3.04570962e-02,  5.18347137e-02, -5.17346023e-04,\n",
       "        -1.76278818e-02, -7.11872010e-04,  3.54709886e-02,  3.88779072e-03,\n",
       "        -6.42485544e-03, -5.12221977e-02,  1.13359364e-02,  1.95607990e-02,\n",
       "         1.94582976e-02, -1.07519841e-02, -3.11771855e-02,  6.23706765e-02,\n",
       "        -5.70371561e-03,  3.01963277e-02,  2.19547674e-02, -2.80482862e-02,\n",
       "         2.85483133e-02, -2.33329833e-02,  4.97098267e-02, -1.41451908e-02,\n",
       "        -3.55807766e-02, -8.68108403e-03,  3.31160128e-02,  1.41609309e-03,\n",
       "        -7.08062351e-02,  2.30612941e-02, -1.48216251e-03, -3.39593776e-02,\n",
       "         2.02895943e-02, -2.49274913e-03, -5.37430570e-02,  2.28091460e-02,\n",
       "        -2.55130064e-02,  7.91571587e-02,  2.19050832e-02,  7.12321624e-02,\n",
       "         7.87619278e-02, -2.19907202e-02,  2.02532057e-02, -1.86294522e-02,\n",
       "        -1.43703790e-02,  1.27034122e-02,  3.14700305e-02,  1.83821805e-02,\n",
       "         1.01387119e-02, -9.22846701e-03, -4.98025045e-02,  4.12234031e-02,\n",
       "        -2.17266697e-02, -5.89597039e-02,  5.58112785e-02,  1.83259808e-02,\n",
       "        -2.15170644e-02,  1.17504584e-04,  1.13024190e-02,  1.36122573e-02,\n",
       "        -6.92903101e-02, -2.64591873e-02,  4.85683559e-03,  7.53956614e-03,\n",
       "         2.51836199e-02,  9.97507386e-03, -5.94638800e-03,  2.80135823e-03,\n",
       "        -2.31763981e-02,  2.35089734e-02, -1.89727545e-02, -8.77601374e-03,\n",
       "        -1.68828573e-02, -5.51510304e-02,  1.99600887e-02,  2.26414930e-02,\n",
       "         2.48684920e-02, -4.24510092e-02,  4.51681986e-02, -3.46943103e-02,\n",
       "         5.67754395e-02, -2.27103103e-02,  2.40772404e-02, -8.52718018e-03,\n",
       "         4.99883182e-02, -6.05568700e-02,  9.96132195e-03,  8.03653803e-03,\n",
       "         2.25295871e-02,  3.41246352e-02, -7.39750825e-03,  6.39019394e-03,\n",
       "         1.57546960e-02,  4.23613563e-03,  4.67457883e-02, -2.54258178e-02,\n",
       "        -1.77109968e-02, -1.59677826e-02, -3.88374057e-04,  2.19639135e-03,\n",
       "         6.14317954e-02,  1.01090567e-02, -5.76536031e-03,  1.24514997e-02,\n",
       "        -3.23230401e-02, -1.00601232e-03, -3.93297784e-02, -1.22492928e-02,\n",
       "         7.91790057e-03,  1.16057554e-02, -7.83107430e-03,  2.93548033e-03,\n",
       "         5.19382209e-03, -4.54298774e-04, -4.31182832e-02,  5.25295325e-02,\n",
       "         5.38435578e-03, -5.11879027e-02, -7.50454888e-02, -3.75451706e-02,\n",
       "        -1.95489097e-02,  8.17747787e-03, -1.94946988e-04,  2.77631488e-02,\n",
       "         4.81811771e-03,  5.95023073e-02, -2.76201814e-02,  1.21493451e-02,\n",
       "        -5.16560674e-02, -2.86527015e-02, -1.39377443e-02, -1.94459707e-02,\n",
       "        -3.56071629e-02, -3.14511321e-02, -3.15285102e-03,  4.97121289e-02,\n",
       "         4.46145572e-02,  5.33078611e-02, -5.35426736e-02, -1.20227067e-02,\n",
       "        -8.15284029e-02,  7.15108996e-04,  6.33012853e-04, -2.91433949e-02,\n",
       "        -6.00205921e-03, -3.77610475e-02, -1.15063526e-02,  4.43889387e-03,\n",
       "        -2.41616648e-03,  4.28294614e-02,  4.26186919e-02,  2.46331021e-02,\n",
       "         4.08523828e-02,  1.35852571e-03,  4.62414548e-02,  1.84876919e-02,\n",
       "        -3.31745343e-03, -1.17899328e-02, -7.02266023e-02, -8.05690810e-02,\n",
       "         6.39602244e-02,  2.66174208e-02, -1.22011043e-02,  1.72667159e-03,\n",
       "        -3.50731611e-02, -7.09487125e-02, -4.60674874e-02,  1.09953145e-02,\n",
       "         1.66340899e-02,  4.05784808e-02,  4.99354303e-02, -5.10350205e-02,\n",
       "        -1.97156649e-02,  6.21288493e-02, -2.99612731e-02,  6.23487169e-03,\n",
       "        -3.63266915e-02,  1.43623427e-02,  9.30425301e-02,  3.05971168e-02,\n",
       "         5.93688339e-03,  3.14788297e-02,  1.01729902e-02,  4.32055816e-02,\n",
       "         4.19439934e-02,  3.48590724e-02, -7.87243694e-02, -3.33925383e-03,\n",
       "         1.41601805e-02, -3.82456277e-03,  6.09276444e-03,  6.51190951e-02,\n",
       "        -2.19338713e-03,  1.63976718e-02,  1.65806580e-02,  1.20738214e-02,\n",
       "         3.17205070e-03, -4.39223312e-02, -2.07207743e-02,  3.28107215e-02,\n",
       "         6.46589696e-03, -1.83926802e-02,  8.33844692e-02, -1.38644809e-02,\n",
       "         2.55227485e-03,  4.07948568e-02, -3.08303181e-02,  1.37935393e-02,\n",
       "        -1.79142579e-02,  2.76623145e-02, -5.30696381e-03,  4.65788916e-02,\n",
       "         5.50055550e-03, -3.64014297e-04, -5.14167659e-02,  4.60389145e-02,\n",
       "         2.96418834e-02, -3.69406748e-03, -2.62864144e-03, -4.37091179e-02,\n",
       "         1.14318291e-02, -2.61309184e-02, -7.02939853e-02, -4.89438437e-02,\n",
       "        -8.95613246e-03, -6.85935616e-02,  7.00708758e-03, -2.92512425e-03,\n",
       "        -3.71178985e-02, -1.81352124e-02,  2.15114448e-02, -3.78458463e-02,\n",
       "        -3.16531286e-02,  2.49978097e-04, -1.35045173e-02,  1.13761248e-02,\n",
       "        -3.72024602e-03,  7.56245852e-03, -2.53043845e-02, -3.99009176e-02,\n",
       "        -5.02327196e-02, -3.76254134e-02,  1.64655298e-02, -4.00232859e-02,\n",
       "         1.08141163e-02,  8.80806893e-03,  4.81359288e-02, -1.92374196e-02,\n",
       "         6.98282756e-03,  9.07143578e-03, -2.42352355e-02,  1.43719306e-02,\n",
       "        -4.51340117e-02, -5.46137989e-02,  1.54177686e-02, -7.04598203e-02,\n",
       "         3.61269452e-02, -4.41302620e-02,  1.47267543e-02, -3.94880325e-02,\n",
       "        -3.15497965e-02,  3.06033418e-02,  1.88587159e-02,  6.20117411e-02,\n",
       "        -1.84991919e-02, -4.99248616e-02, -4.98962449e-03, -1.72695182e-02,\n",
       "        -3.10940444e-02,  4.34268415e-02,  2.90379319e-02,  1.01620180e-03,\n",
       "         2.97744516e-02,  4.16760109e-02, -6.31476268e-02, -2.27117520e-02,\n",
       "        -5.78304790e-02, -3.70443538e-02,  2.57904697e-02, -3.92317176e-02,\n",
       "        -3.41192372e-02,  1.62899457e-02,  9.80664641e-02,  5.44515736e-02,\n",
       "         2.49658525e-02,  1.21476210e-03, -2.01752409e-02, -1.59823876e-02,\n",
       "         5.58456825e-03, -2.60335077e-02, -2.35546902e-02,  3.76790836e-02,\n",
       "        -5.68896979e-02,  7.29828402e-02,  1.67373717e-02, -9.82352048e-02,\n",
       "         9.10856575e-02, -2.95038940e-03,  9.58241522e-03, -4.11973223e-02,\n",
       "        -9.97212529e-03, -3.39022875e-02,  4.79121059e-02, -3.61143751e-03,\n",
       "         1.68155935e-02, -4.80759032e-02, -3.26520205e-03, -2.92488690e-02,\n",
       "        -2.93716863e-02, -3.51759046e-02,  4.37194221e-02, -8.19777790e-03,\n",
       "        -6.82736337e-02,  3.58738229e-02,  3.66120711e-02,  1.79724786e-02,\n",
       "         2.83978209e-02,  9.54729877e-03, -1.03139160e-02,  6.51496053e-02,\n",
       "         1.87120475e-02,  4.05369280e-03, -2.56668702e-02, -4.50835600e-02,\n",
       "        -3.16783041e-02,  1.70137398e-02,  2.69287806e-02, -1.55371036e-02,\n",
       "        -6.34984998e-03,  2.02567261e-02, -4.83849645e-02,  4.11091931e-03,\n",
       "        -7.75782333e-04, -2.37116311e-03,  2.05615927e-02, -2.32535601e-02,\n",
       "        -1.04728583e-02,  4.16378602e-02, -1.93198994e-02, -1.94188897e-02,\n",
       "        -2.42213011e-02,  4.21438701e-02,  3.28202918e-02, -3.21714059e-02,\n",
       "        -4.19723615e-02,  5.93347922e-02,  3.93215120e-02,  7.59618217e-03,\n",
       "        -3.36648052e-04,  1.33427586e-02,  1.96563303e-02, -2.86431285e-03,\n",
       "         9.65924654e-03, -3.52975763e-02,  6.55610953e-03, -2.08579842e-02,\n",
       "         2.26861313e-02,  7.99290370e-03, -4.27016616e-02, -3.52411456e-02,\n",
       "        -4.39404808e-02,  4.49556112e-02,  1.07855164e-02, -2.31659487e-02],\n",
       "       dtype=float32)}"
      ]
     },
     "execution_count": 151,
     "metadata": {},
     "output_type": "execute_result"
    }
   ],
   "source": [
    "docs_ml[1]"
   ]
  },
  {
   "cell_type": "code",
   "execution_count": 144,
   "metadata": {},
   "outputs": [
    {
     "data": {
      "application/vnd.jupyter.widget-view+json": {
       "model_id": "703ab1b75bd54801a15edae0e20142e2",
       "version_major": 2,
       "version_minor": 0
      },
      "text/plain": [
       "  0%|          | 0/375 [00:00<?, ?it/s]"
      ]
     },
     "metadata": {},
     "output_type": "display_data"
    }
   ],
   "source": [
    "for doc in tqdm(docs_ml):\n",
    "    try:\n",
    "        es_client.index(index=index_name, document=doc)\n",
    "    except Exception as e:\n",
    "        print(e)"
   ]
  },
  {
   "cell_type": "code",
   "execution_count": 145,
   "metadata": {},
   "outputs": [],
   "source": [
    "query = {\n",
    "    \"field\": \"question_text_vector\",\n",
    "    \"query_vector\": result,\n",
    "    \"k\": 5,\n",
    "    \"num_candidates\": 10000,\n",
    "}"
   ]
  },
  {
   "cell_type": "code",
   "execution_count": 148,
   "metadata": {},
   "outputs": [
    {
     "data": {
      "text/plain": [
       "{'_index': 'course-questions',\n",
       " '_id': '6NP1m5ABusD-agPuioUb',\n",
       " '_score': 0.82532895,\n",
       " '_source': {'question': 'The course has already started. Can I still join it?',\n",
       "  'course': 'machine-learning-zoomcamp',\n",
       "  'section': 'General course-related questions',\n",
       "  'text': 'Yes, you can. You won’t be able to submit some of the homeworks, but you can still take part in the course.\\nIn order to get a certificate, you need to submit 2 out of 3 course projects and review 3 peers’ Projects by the deadline. It means that if you join the course at the end of November and manage to work on two projects, you will still be eligible for a certificate.',\n",
       "  'id': 'ee58a693'}}"
      ]
     },
     "execution_count": 148,
     "metadata": {},
     "output_type": "execute_result"
    }
   ],
   "source": [
    "res = es_client.search(\n",
    "    index=index_name, knn=query, source=[\"text\", \"section\", \"question\", \"course\", \"id\"]\n",
    ")\n",
    "\n",
    "res[\"hits\"][\"hits\"][0]"
   ]
  },
  {
   "cell_type": "markdown",
   "metadata": {},
   "source": [
    "## Q6. Hit-rate for Elasticsearch"
   ]
  },
  {
   "cell_type": "code",
   "execution_count": 152,
   "metadata": {},
   "outputs": [],
   "source": [
    "def elastic_search_knn(vector):\n",
    "    knn = {\n",
    "        \"field\": \"question_text_vector\",\n",
    "        \"query_vector\": vector,\n",
    "        \"k\": 5,\n",
    "        \"num_candidates\": 10000,\n",
    "        \"filter\": {\"term\": {\"course\": \"machine-learning-zoomcamp\"}},\n",
    "    }\n",
    "\n",
    "    search_query = {\n",
    "        \"knn\": knn,\n",
    "        \"_source\": [\"text\", \"section\", \"question\", \"course\", \"id\"],\n",
    "    }\n",
    "\n",
    "    es_results = es_client.search(index=index_name, body=search_query)\n",
    "\n",
    "    result_docs = []\n",
    "\n",
    "    for hit in es_results[\"hits\"][\"hits\"]:\n",
    "        result_docs.append(hit[\"_source\"])\n",
    "\n",
    "    return result_docs"
   ]
  },
  {
   "cell_type": "code",
   "execution_count": 155,
   "metadata": {},
   "outputs": [
    {
     "data": {
      "application/vnd.jupyter.widget-view+json": {
       "model_id": "a277d3f45a5a40139edb97091b4036b1",
       "version_major": 2,
       "version_minor": 0
      },
      "text/plain": [
       "  0%|          | 0/1830 [00:00<?, ?it/s]"
      ]
     },
     "metadata": {},
     "output_type": "display_data"
    },
    {
     "data": {
      "text/plain": [
       "{'hit_rate': 0.9398907103825137, 'mrr': 0.8516484517304189}"
      ]
     },
     "execution_count": 155,
     "metadata": {},
     "output_type": "execute_result"
    }
   ],
   "source": [
    "def question_text_vector_knn(q):\n",
    "    question = q[\"question\"]\n",
    "\n",
    "    v_q = embedding_model.encode(question)\n",
    "\n",
    "    return elastic_search_knn(v_q)\n",
    "\n",
    "\n",
    "evaluate(ground_truth, question_text_vector_knn)"
   ]
  },
  {
   "cell_type": "code",
   "execution_count": null,
   "metadata": {},
   "outputs": [],
   "source": []
  }
 ],
 "metadata": {
  "kernelspec": {
   "display_name": "Python 3",
   "language": "python",
   "name": "python3"
  },
  "language_info": {
   "codemirror_mode": {
    "name": "ipython",
    "version": 3
   },
   "file_extension": ".py",
   "mimetype": "text/x-python",
   "name": "python",
   "nbconvert_exporter": "python",
   "pygments_lexer": "ipython3",
   "version": "3.10.13"
  }
 },
 "nbformat": 4,
 "nbformat_minor": 2
}
